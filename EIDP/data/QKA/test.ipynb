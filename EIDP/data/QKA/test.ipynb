{
 "cells": [
  {
   "cell_type": "code",
   "execution_count": 1,
   "metadata": {},
   "outputs": [],
   "source": [
    "import pandas as pd\n",
    "\n",
    "\n",
    "col_name = ['uid', 'iid', 'click', 'like', 'share', 'follow']\n",
    "qkv_train = pd.read_csv('train.txt', header=None, names=col_name)\n",
    "qkv_val = pd.read_csv('valid.txt', header=None, names=col_name)\n",
    "qkv_bvt = pd.read_csv('between_val_test.txt', header=None, names=col_name)\n",
    "qkv_test = pd.read_csv('test.txt', header=None, names=col_name)"
   ]
  },
  {
   "cell_type": "code",
   "execution_count": 2,
   "metadata": {},
   "outputs": [],
   "source": [
    "i_train = set(pd.unique(qkv_train['iid']))\n",
    "i_val = set(pd.unique(qkv_val['iid']))\n",
    "i_bvt = set(pd.unique(qkv_bvt['iid']))\n",
    "i_test = set(pd.unique(qkv_test['iid']))"
   ]
  },
  {
   "cell_type": "code",
   "execution_count": 3,
   "metadata": {
    "scrolled": true
   },
   "outputs": [
    {
     "name": "stdout",
     "output_type": "stream",
     "text": [
      "set()\n"
     ]
    }
   ],
   "source": [
    "print(i_val - i_train)"
   ]
  },
  {
   "cell_type": "code",
   "execution_count": 4,
   "metadata": {
    "scrolled": true
   },
   "outputs": [
    {
     "name": "stdout",
     "output_type": "stream",
     "text": [
      "set()\n"
     ]
    }
   ],
   "source": [
    "print(i_bvt - i_train)"
   ]
  },
  {
   "cell_type": "code",
   "execution_count": 5,
   "metadata": {},
   "outputs": [
    {
     "name": "stdout",
     "output_type": "stream",
     "text": [
      "set()\n"
     ]
    }
   ],
   "source": [
    "print(i_test - i_train)"
   ]
  },
  {
   "cell_type": "code",
   "execution_count": 6,
   "metadata": {},
   "outputs": [
    {
     "name": "stdout",
     "output_type": "stream",
     "text": [
      "5063\n"
     ]
    }
   ],
   "source": [
    "print(len(qkv_val['iid']))"
   ]
  },
  {
   "cell_type": "code",
   "execution_count": null,
   "metadata": {},
   "outputs": [],
   "source": []
  }
 ],
 "metadata": {
  "kernelspec": {
   "display_name": "SASRec-pytorch",
   "language": "python",
   "name": "sasrec-pytorch"
  },
  "language_info": {
   "codemirror_mode": {
    "name": "ipython",
    "version": 3
   },
   "file_extension": ".py",
   "mimetype": "text/x-python",
   "name": "python",
   "nbconvert_exporter": "python",
   "pygments_lexer": "ipython3",
   "version": "3.7.16"
  }
 },
 "nbformat": 4,
 "nbformat_minor": 4
}
